{
 "cells": [
  {
   "cell_type": "code",
   "execution_count": 1,
   "id": "dffa0a55",
   "metadata": {},
   "outputs": [],
   "source": [
    "# script to make TOF plot of CO oxidation on pt\n",
    "# kind of based off of this example: https://cantera.org/examples/python/surface_chemistry/catalytic_combustion.py.html"
   ]
  },
  {
   "cell_type": "code",
   "execution_count": 2,
   "id": "48649060",
   "metadata": {},
   "outputs": [],
   "source": [
    "import numpy as np\n",
    "import matplotlib.pyplot as plt\n",
    "import cantera as ct\n",
    "import pandas as pd\n",
    "from scipy.optimize import fsolve\n"
   ]
  },
  {
   "cell_type": "code",
   "execution_count": 3,
   "id": "77395311",
   "metadata": {},
   "outputs": [],
   "source": [
    "# Define reactor conditions\n",
    "CO_0 = 1.0  # kmol / m^3\n",
    "O2_0 = 1.0  # kmol / m^3\n",
    "Ar_0 = 1.0  # kmol / m^3\n",
    "REACTOR_VOLUME = 1.0  # m^3\n",
    "REACTOR_TEMPERATURE = 900  # K\n",
    "REACTOR_PRESSURE = 100000.0  # 1 bar = 100000 Pa\n",
    "MAX_SIMULATION_TIME = 1.0\n",
    "CONCENTRATIONS = {\n",
    "    'CO(4)': 0.1,\n",
    "    'O2(2)': 0.1,\n",
    "    'Ar': 0.8,\n",
    "}"
   ]
  },
  {
   "cell_type": "code",
   "execution_count": 4,
   "id": "1d521647",
   "metadata": {},
   "outputs": [],
   "source": [
    "x_CO = CONCENTRATIONS['CO(4)']\n",
    "x_O2 = CONCENTRATIONS['O2(2)']\n",
    "x_Ar = CONCENTRATIONS['Ar']\n"
   ]
  },
  {
   "cell_type": "code",
   "execution_count": 5,
   "id": "82eab74a",
   "metadata": {},
   "outputs": [],
   "source": [
    "# Read in the mechanism\n",
    "model_file = 'chem_annotated.cti'\n",
    "gas = ct.Solution(model_file, \"gas\")\n",
    "surf = ct.Interface(model_file, \"surface1\", [gas])"
   ]
  },
  {
   "cell_type": "code",
   "execution_count": 118,
   "id": "d7c8ee0f",
   "metadata": {},
   "outputs": [],
   "source": [
    "# initialize T and P\n",
    "gas.TPX = REACTOR_TEMPERATURE, REACTOR_PRESSURE, CONCENTRATIONS\n",
    "surf.TP = REACTOR_TEMPERATURE, REACTOR_PRESSURE\n",
    "\n",
    "volume_flow = 1.0\n",
    "\n",
    "# Catalyst settings (really need to double check these)\n",
    "catalyst_weight = 4.24e-3\n",
    "cat_site_per_wt = 5*61.67*1e-6*1e3 # [mol/kg] 1e-6mol/micromole, 1000g/kg\n",
    "site_density = (\n",
    "    surf.site_density * 1000\n",
    ")  # [mol/m^2]cantera uses kmol/m^2, convert to mol/m^2\n",
    "cat_area = (catalyst_weight * cat_site_per_wt) / site_density  # [m^3]\n",
    "surf.coverages = \"X(1):1.0\"\n"
   ]
  },
  {
   "cell_type": "code",
   "execution_count": 119,
   "id": "78a5a481",
   "metadata": {},
   "outputs": [],
   "source": [
    "gas_reactor = ct.IdealGasReactor(gas)\n",
    "gas_reactor.volume = REACTOR_VOLUME\n",
    "surface_reactor = ct.ReactorSurface(surf, gas_reactor, A=cat_area)\n",
    "\n",
    "# set up mass flow controllers\n",
    "inlet = ct.Reservoir(gas)\n",
    "exhaust = ct.Reservoir(gas)"
   ]
  },
  {
   "cell_type": "code",
   "execution_count": 120,
   "id": "3e26323e",
   "metadata": {},
   "outputs": [],
   "source": [
    "N = 10000\n",
    "delta_t = 1e-2\n",
    "t = np.arange(0, N * delta_t, delta_t)\n",
    "X_cov = np.zeros(len(t))\n",
    "CO_cov = np.zeros(len(t))\n",
    "O_cov = np.zeros(len(t))\n",
    "CO2_cov = np.zeros(len(t))\n",
    "\n"
   ]
  },
  {
   "cell_type": "code",
   "execution_count": 121,
   "id": "242492c9",
   "metadata": {},
   "outputs": [],
   "source": [
    "for i in range(0, len(t)):\n",
    "    X_cov[i] = surf.coverages[surf.species_names.index('X(1)')]\n",
    "    CO_cov[i] = surf.coverages[surf.species_names.index('OCX(14)')]\n",
    "    O_cov[i] = surf.coverages[surf.species_names.index('OX(8)')]\n",
    "    CO2_cov[i] = surf.coverages[surf.species_names.index('CO2X(13)')]\n",
    "    surf.advance_coverages(delta_t)"
   ]
  },
  {
   "cell_type": "code",
   "execution_count": 122,
   "id": "24fe7ddf",
   "metadata": {},
   "outputs": [],
   "source": [
    "# surf.advance_coverages(delta_t)"
   ]
  },
  {
   "cell_type": "code",
   "execution_count": 123,
   "id": "059f4da8",
   "metadata": {},
   "outputs": [
    {
     "data": {
      "text/plain": [
       "[<matplotlib.lines.Line2D at 0x7f32bee99610>,\n",
       " <matplotlib.lines.Line2D at 0x7f32bee99490>,\n",
       " <matplotlib.lines.Line2D at 0x7f32bee99710>]"
      ]
     },
     "execution_count": 123,
     "metadata": {},
     "output_type": "execute_result"
    },
    {
     "data": {
      "image/png": "[encoded data removed]",
      "text/plain": [
       "<Figure size 432x288 with 1 Axes>"
      ]
     },
     "metadata": {
      "needs_background": "light"
     },
     "output_type": "display_data"
    }
   ],
   "source": [
    "plt.plot(t, CO_cov, t, X_cov, t, O_cov)"
   ]
  },
  {
   "cell_type": "code",
   "execution_count": null,
   "id": "de76d7ba",
   "metadata": {},
   "outputs": [],
   "source": []
  },
  {
   "cell_type": "code",
   "execution_count": null,
   "id": "0a490655",
   "metadata": {},
   "outputs": [],
   "source": []
  },
  {
   "cell_type": "code",
   "execution_count": null,
   "id": "e7821636",
   "metadata": {},
   "outputs": [],
   "source": []
  }
 ],
 "metadata": {
  "kernelspec": {
   "display_name": "Python 3 (ipykernel)",
   "language": "python",
   "name": "python3"
  },
  "language_info": {
   "codemirror_mode": {
    "name": "ipython",
    "version": 3
   },
   "file_extension": ".py",
   "mimetype": "text/x-python",
   "name": "python",
   "nbconvert_exporter": "python",
   "pygments_lexer": "ipython3",
   "version": "3.7.12"
  }
 },
 "nbformat": 4,
 "nbformat_minor": 5
}

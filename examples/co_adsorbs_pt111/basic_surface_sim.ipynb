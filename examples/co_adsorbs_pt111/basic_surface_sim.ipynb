{
 "cells": [
  {
   "cell_type": "markdown",
   "id": "95921082",
   "metadata": {},
   "source": [
    "# Simulation of CO + * => CO*"
   ]
  },
  {
   "cell_type": "code",
   "execution_count": 75,
   "id": "371f2922",
   "metadata": {},
   "outputs": [],
   "source": [
    "import cantera as ct\n",
    "import rmgpy.chemkin\n",
    "import subprocess\n",
    "import datetime\n",
    "import numpy as np\n",
    "import matplotlib.pyplot as plt\n",
    "import yaml\n",
    "import os\n",
    "\n",
    "import sys\n",
    "sys.path.append('/home/moon/kmc/zacros/Zacros-Wrapper')\n",
    "\n",
    "import zacros_wrapper as zw\n",
    "\n",
    "\n",
    "%matplotlib inline"
   ]
  },
  {
   "cell_type": "code",
   "execution_count": 77,
   "id": "794375c7",
   "metadata": {},
   "outputs": [
    {
     "name": "stdout",
     "output_type": "stream",
     "text": [
      "Wrote YAML mechanism file to '/home/moon/rmg/rmg2kmc/examples/co_adsorbs_pt111/chem_annotated-gas.yaml'.\n",
      "Mechanism contains 2 species and 1 reactions.\n",
      "Validating mechanism...\n",
      "PASSED\n"
     ]
    },
    {
     "data": {
      "text/plain": [
       "CompletedProcess(args=['ck2yaml', '--input=/home/moon/rmg/rmg2kmc/examples/co_adsorbs_pt111/chem_annotated-gas.inp', '--surface=/home/moon/rmg/rmg2kmc/examples/co_adsorbs_pt111/chem_annotated-surface.inp', '--transport=/home/moon/rmg/rmg2kmc/examples/co_adsorbs_pt111/tran.dat'], returncode=0)"
      ]
     },
     "execution_count": 77,
     "metadata": {},
     "output_type": "execute_result"
    }
   ],
   "source": [
    "# convert RMG mech to yaml\n",
    "cur_dir = '/home/moon/rmg/rmg2kmc/examples/co_adsorbs_pt111'\n",
    "gas_mech_file = os.path.join(cur_dir, 'chem_annotated-gas.inp')\n",
    "surface_mech_file = os.path.join(cur_dir, 'chem_annotated-surface.inp')\n",
    "transport = os.path.join(cur_dir, 'tran.dat')\n",
    "\n",
    "\n",
    "gas_sp, gas_rxns = rmgpy.chemkin.load_chemkin_file(gas_mech_file)\n",
    "\n",
    "\n",
    "subprocess.run(['ck2yaml', f'--input={gas_mech_file}', f'--surface={surface_mech_file}', f'--transport={transport}'])\n"
   ]
  },
  {
   "cell_type": "code",
   "execution_count": null,
   "id": "224da234",
   "metadata": {},
   "outputs": [],
   "source": []
  },
  {
   "cell_type": "code",
   "execution_count": 73,
   "id": "dea3ad63",
   "metadata": {},
   "outputs": [
    {
     "name": "stdout",
     "output_type": "stream",
     "text": [
      "Gas Phase Species:\n",
      "Ar\n",
      "CO(2)\n",
      "\n",
      "Gas Phase Reactions:\n",
      "\n",
      "Surface Phase Species:\n",
      "X(4)\n",
      "CO_X(8)\n",
      "\n",
      "Surface Phase Reactions:\n",
      "CO(2) + X(4) => CO_X(8)\n"
     ]
    }
   ],
   "source": [
    "# Load the mechanism\n",
    "\n",
    "model_file = os.path.join(cur_dir, 'chem_annotated-gas.yaml')\n",
    "gas = ct.Solution(model_file, \"gas\")\n",
    "surf = ct.Interface(model_file, \"surface1\", [gas])\n",
    "\n",
    "\n",
    "print('Gas Phase Species:')\n",
    "for sp in gas.species():\n",
    "    print(sp.name)\n",
    "print()\n",
    "    \n",
    "print('Gas Phase Reactions:')\n",
    "for rxn in gas.reactions():\n",
    "    print(rxn)    \n",
    "print()\n",
    "\n",
    "print('Surface Phase Species:')\n",
    "for sp in surf.species():\n",
    "    print(sp.name)\n",
    "print()\n",
    "\n",
    "print('Surface Phase Reactions:')\n",
    "for rxn in surf.reactions():\n",
    "    print(rxn)"
   ]
  },
  {
   "cell_type": "code",
   "execution_count": 87,
   "id": "8c37e772",
   "metadata": {},
   "outputs": [],
   "source": [
    "# Create a simulation file for both Cantera and Zacros to use\n",
    "\n",
    "ct_mol_fracs = {'Ar': 0.99, 'CO(2)': 0.01}\n",
    "\n",
    "rmg_labels = [s.label for s in gas_sp]\n",
    "rmg_mol_fracs = {}\n",
    "for key in ct_mol_fracs.keys():\n",
    "    new_key = rmg_labels[gas.species_names.index(key)]\n",
    "    rmg_mol_fracs[new_key] = ct_mol_fracs[key]\n",
    "\n",
    "\n",
    "simulation_settings = {\n",
    "    'T_K': 1000,\n",
    "    'P_Pa': 101325,\n",
    "    'starting_gas_mol_frac_ct': ct_mol_fracs,\n",
    "    'starting_gas_mol_frac_rmg': rmg_mol_fracs\n",
    "#     'starting_gas_mol_frac': {'Ar': 0.9, 'CO(2)': 0.1},\n",
    "}\n",
    "\n",
    "simulation_settings_file = os.path.join(cur_dir, 'reactor_settings.yaml')\n",
    "with open(simulation_settings_file, 'w') as f:\n",
    "    f.write(f'# Simulation file generated {datetime.datetime.now()}\\n\\n')\n",
    "    yaml.dump(simulation_settings, f)"
   ]
  },
  {
   "cell_type": "code",
   "execution_count": 88,
   "id": "02c213c4",
   "metadata": {},
   "outputs": [
    {
     "data": {
      "text/plain": [
       "2.7200000000000002e-08"
      ]
     },
     "execution_count": 88,
     "metadata": {},
     "output_type": "execute_result"
    }
   ],
   "source": [
    "surf.site_density"
   ]
  },
  {
   "cell_type": "code",
   "execution_count": 96,
   "id": "f93a33af",
   "metadata": {},
   "outputs": [],
   "source": [
    "# Set Reactor conditions:\n",
    "# initialize T and P\n",
    "T = simulation_settings['T_K'] #  K\n",
    "P = simulation_settings['P_Pa']  # Pa\n",
    "X = simulation_settings['starting_gas_mol_frac_ct']\n",
    "V = 1.0 #  TODO units\n"
   ]
  },
  {
   "cell_type": "code",
   "execution_count": 103,
   "id": "ebe1a238",
   "metadata": {},
   "outputs": [],
   "source": [
    "# Run the reactor\n",
    "\n",
    "gas.TPX = T, P, X\n",
    "surf.TP = T, P\n",
    "\n",
    "# # These settings need to match zacros\n",
    "# volume_flow = 1.0\n",
    "\n",
    "# # Catalyst settings (really need to double check these)\n",
    "catalyst_weight = 4.24e-3\n",
    "cat_site_per_wt = 5*61.67*1e-6*1e3 # [mol/kg] 1e-6mol/micromole, 1000g/kg\n",
    "site_density = (\n",
    "    surf.site_density * 1000\n",
    ")  # [mol/m^2]cantera uses kmol/m^2, convert to mol/m^2\n",
    "cat_area = (catalyst_weight * cat_site_per_wt) / site_density  # [m^3]\n",
    "surf.coverages = \"X(4):1.0\"\n",
    "\n",
    "\n",
    "gas_reactor = ct.IdealGasReactor(gas)\n",
    "gas_reactor.volume = V\n",
    "# TODO sort out catalyst area\n",
    "surface_reactor = ct.ReactorSurface(surf, gas_reactor, A=cat_area)\n",
    "\n",
    "# set up mass flow controllers\n",
    "inlet = ct.Reservoir(gas)\n",
    "exhaust = ct.Reservoir(gas)\n",
    "\n",
    "\n",
    "MAX_STEPS = 100000\n",
    "# delta_t = 1e-2\n",
    "delta_t = 1.0 / (surf.forward_rate_constants[0])\n",
    "# delta_t = 1e-9\n",
    "t = np.arange(0, MAX_STEPS * delta_t, delta_t)\n",
    "\n",
    "CO_cov = np.zeros(MAX_STEPS)\n",
    "X_cov = np.zeros(MAX_STEPS)\n",
    "\n",
    "for i in range(MAX_STEPS):\n",
    "    X_cov[i] = surf.coverages[surf.species_names.index('X(4)')]\n",
    "    CO_cov[i] = surf.coverages[surf.species_names.index('CO_X(8)')]\n",
    "    \n",
    "    surf.advance_coverages(delta_t)\n"
   ]
  },
  {
   "cell_type": "markdown",
   "id": "6fd9dcbd",
   "metadata": {},
   "source": [
    "## User must run rmg2kmc and then zacros, but we could use subprocess to do it here"
   ]
  },
  {
   "cell_type": "code",
   "execution_count": 98,
   "id": "0f3812a2",
   "metadata": {},
   "outputs": [
    {
     "name": "stdout",
     "output_type": "stream",
     "text": [
      "Using Chemkin Reader\n"
     ]
    },
    {
     "data": {
      "text/plain": [
       "CompletedProcess(args=['python', '../../rmg2kmc.py', 'chem_annotated-gas.inp', 'chem_annotated-surface.inp', 'species_dictionary.txt'], returncode=0)"
      ]
     },
     "execution_count": 98,
     "metadata": {},
     "output_type": "execute_result"
    }
   ],
   "source": [
    "# Run RMG2KMC\n",
    "os.chdir(cur_dir)\n",
    "subprocess.run([\n",
    "    'python',\n",
    "    '../../rmg2kmc.py',\n",
    "    'chem_annotated-gas.inp',\n",
    "    'chem_annotated-surface.inp',\n",
    "    'species_dictionary.txt'\n",
    "])\n"
   ]
  },
  {
   "cell_type": "code",
   "execution_count": 99,
   "id": "0abc8226",
   "metadata": {},
   "outputs": [
    {
     "name": "stdout",
     "output_type": "stream",
     "text": [
      " NO THREADS\n"
     ]
    },
    {
     "data": {
      "text/plain": [
       "CompletedProcess(args=['./zacros.x'], returncode=0)"
      ]
     },
     "execution_count": 99,
     "metadata": {},
     "output_type": "execute_result"
    }
   ],
   "source": [
    "# Run zacros\n",
    "os.chdir(os.path.join(cur_dir, 'zacros'))\n",
    "subprocess.run(['./zacros.x'])"
   ]
  },
  {
   "cell_type": "code",
   "execution_count": null,
   "id": "af594be1",
   "metadata": {},
   "outputs": [],
   "source": []
  },
  {
   "cell_type": "code",
   "execution_count": 100,
   "id": "f5e1884d",
   "metadata": {},
   "outputs": [
    {
     "name": "stdout",
     "output_type": "stream",
     "text": [
      "CO_X\n"
     ]
    }
   ],
   "source": [
    "# Run KMC results\n",
    "kmc_dir = '/home/moon/rmg/rmg2kmc/examples/co_adsorbs_pt111/zacros'\n",
    "\n",
    "''' Read simulation results '''\n",
    "my_trajectory = zw.kmc_traj()                           # Create single trajectory object\n",
    "my_trajectory.Path = kmc_dir                            # Set directory for files\n",
    "my_trajectory.ReadAllOutput(build_lattice=True)         # Read input and output files\n",
    "\n",
    "''' Plot data '''\n",
    "my_trajectory.PlotSurfSpecVsTime(save_data=True)                      # Plot surface species populations versus time\n",
    "my_trajectory.PlotGasSpecVsTime()                       # Plot gas species populations versus time\n",
    "my_trajectory.PlotElemStepFreqs(time_norm = True)       # Plot elementary step frequencies\n",
    "#my_trajectory.PlotLattice()                             # Plot the lattice\n",
    "#my_trajectory.LatticeMovie()                            # Plot the lattice snapshots\n",
    "np.save(os.path.join(kmc_dir, 'times.npy'), my_trajectory.specnumout.t)\n",
    "np.save(os.path.join(kmc_dir, 'spec.npy'), my_trajectory.specnumout.spec)"
   ]
  },
  {
   "cell_type": "code",
   "execution_count": 101,
   "id": "98f66314",
   "metadata": {},
   "outputs": [],
   "source": [
    "t_kmc = np.load(os.path.join(kmc_dir, 'times.npy'))\n",
    "spec_kmc = np.load(os.path.join(kmc_dir, 'spec.npy'))"
   ]
  },
  {
   "cell_type": "code",
   "execution_count": null,
   "id": "f4a3152e",
   "metadata": {},
   "outputs": [],
   "source": []
  },
  {
   "cell_type": "code",
   "execution_count": 104,
   "id": "b7ed704b",
   "metadata": {},
   "outputs": [
    {
     "data": {
      "text/plain": [
       "Text(0, 0.5, 'coverage fraction $\\\\theta$')"
      ]
     },
     "execution_count": 104,
     "metadata": {},
     "output_type": "execute_result"
    },
    {
     "data": {
      "image/png": "[encoded data removed]",
      "text/plain": [
       "<Figure size 640x480 with 1 Axes>"
      ]
     },
     "metadata": {},
     "output_type": "display_data"
    }
   ],
   "source": [
    "plt.plot(t, CO_cov)\n",
    "plt.plot(t, X_cov)\n",
    "\n",
    "plt.plot(t_kmc, spec_kmc[:, 1] / 400, linestyle='dashed')\n",
    "plt.plot(t_kmc, 1.0 - spec_kmc[:, 1] / 400, linestyle='dashed')\n",
    "\n",
    "plt.legend(['CO (RMG)', 'X (RMG)', 'CO (Zacros)', 'X (Zacros)'])\n",
    "# plt.legend([])\n",
    "# plt.xlim([0, 10])\n",
    "plt.xlabel('time (seconds)')\n",
    "plt.ylabel(r'coverage fraction $\\theta$')\n",
    "\n",
    "\n"
   ]
  },
  {
   "cell_type": "code",
   "execution_count": null,
   "id": "f2970359",
   "metadata": {},
   "outputs": [],
   "source": []
  },
  {
   "cell_type": "code",
   "execution_count": 24,
   "id": "94d1f580",
   "metadata": {},
   "outputs": [
    {
     "data": {
      "text/plain": [
       "<Units(m^3 / kmol / s) at 7fcb66f3c7b0>"
      ]
     },
     "execution_count": 24,
     "metadata": {},
     "output_type": "execute_result"
    }
   ],
   "source": [
    "surf.reactions()[0].rate_coeff_units"
   ]
  },
  {
   "cell_type": "code",
   "execution_count": 25,
   "id": "f6126d2c",
   "metadata": {},
   "outputs": [
    {
     "data": {
      "text/plain": [
       "96109764.88791367"
      ]
     },
     "execution_count": 25,
     "metadata": {},
     "output_type": "execute_result"
    }
   ],
   "source": [
    "# convert to zacros units\n",
    "surf.forward_rate_constants[0] / ct.gas_constant / T * 1e5"
   ]
  },
  {
   "cell_type": "code",
   "execution_count": null,
   "id": "0b9079a4",
   "metadata": {},
   "outputs": [],
   "source": []
  },
  {
   "cell_type": "code",
   "execution_count": null,
   "id": "ef56b4c5",
   "metadata": {},
   "outputs": [],
   "source": []
  }
 ],
 "metadata": {
  "kernelspec": {
   "display_name": "Python 3 (ipykernel)",
   "language": "python",
   "name": "python3"
  },
  "language_info": {
   "codemirror_mode": {
    "name": "ipython",
    "version": 3
   },
   "file_extension": ".py",
   "mimetype": "text/x-python",
   "name": "python",
   "nbconvert_exporter": "python",
   "pygments_lexer": "ipython3",
   "version": "3.7.16"
  }
 },
 "nbformat": 4,
 "nbformat_minor": 5
}
